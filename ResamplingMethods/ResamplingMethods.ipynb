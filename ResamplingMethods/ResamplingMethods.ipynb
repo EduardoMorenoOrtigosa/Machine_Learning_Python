{
 "cells": [
  {
   "cell_type": "markdown",
   "metadata": {},
   "source": [
    "# Resampling methods"
   ]
  },
  {
   "cell_type": "markdown",
   "metadata": {},
   "source": [
    "## Validation Set, LOOCV, k-fold cross validation\n",
    "### Eduardo Moreno Ortigosa"
   ]
  },
  {
   "cell_type": "code",
   "execution_count": 1,
   "metadata": {},
   "outputs": [],
   "source": [
    "import pandas as pd\n",
    "import numpy as np\n",
    "\n",
    "import seaborn as sns\n",
    "import matplotlib.pyplot as plt\n",
    "%matplotlib inline"
   ]
  },
  {
   "cell_type": "code",
   "execution_count": 49,
   "metadata": {},
   "outputs": [],
   "source": [
    "from sklearn.model_selection import train_test_split\n",
    "from sklearn.linear_model import LinearRegression\n",
    "from sklearn.linear_model import LogisticRegression\n",
    "from sklearn import metrics\n",
    "\n",
    "import statsmodels.api as sm"
   ]
  },
  {
   "cell_type": "code",
   "execution_count": 4,
   "metadata": {},
   "outputs": [
    {
     "name": "stderr",
     "output_type": "stream",
     "text": [
      "/Users/eduardo/anaconda3/lib/python3.6/site-packages/sklearn/cross_validation.py:41: DeprecationWarning: This module was deprecated in version 0.18 in favor of the model_selection module into which all the refactored classes and functions are moved. Also note that the interface of the new CV iterators are different from that of this module. This module will be removed in 0.20.\n",
      "  \"This module will be removed in 0.20.\", DeprecationWarning)\n"
     ]
    }
   ],
   "source": [
    "from sklearn.cross_validation import cross_val_score\n",
    "from sklearn.cross_validation import LeaveOneOut\n",
    "from sklearn.model_selection import KFold"
   ]
  },
  {
   "cell_type": "markdown",
   "metadata": {},
   "source": [
    "### Problem 1. Cross validation on sailing yacht (Linear Regression)"
   ]
  },
  {
   "cell_type": "markdown",
   "metadata": {},
   "source": [
    "#### Reading the yacht hydrodynamics dataset"
   ]
  },
  {
   "cell_type": "code",
   "execution_count": 48,
   "metadata": {},
   "outputs": [],
   "source": [
    "yacht = pd.read_csv(\"yacht_hydrodynamics.data\", delim_whitespace=True,\n",
    "                           names=['Long pos', 'Prismatic coeff',\n",
    "                                 'Length-displacement ratio',\n",
    "                                 'Beam-draught ratio',\n",
    "                                 'Length-beam ratio',\n",
    "                                 'Froude number',\n",
    "                                 'Residuary resistance'])"
   ]
  },
  {
   "cell_type": "code",
   "execution_count": 49,
   "metadata": {},
   "outputs": [
    {
     "data": {
      "text/html": [
       "<div>\n",
       "<style scoped>\n",
       "    .dataframe tbody tr th:only-of-type {\n",
       "        vertical-align: middle;\n",
       "    }\n",
       "\n",
       "    .dataframe tbody tr th {\n",
       "        vertical-align: top;\n",
       "    }\n",
       "\n",
       "    .dataframe thead th {\n",
       "        text-align: right;\n",
       "    }\n",
       "</style>\n",
       "<table border=\"1\" class=\"dataframe\">\n",
       "  <thead>\n",
       "    <tr style=\"text-align: right;\">\n",
       "      <th></th>\n",
       "      <th>Long pos</th>\n",
       "      <th>Prismatic coeff</th>\n",
       "      <th>Length-displacement ratio</th>\n",
       "      <th>Beam-draught ratio</th>\n",
       "      <th>Length-beam ratio</th>\n",
       "      <th>Froude number</th>\n",
       "      <th>Residuary resistance</th>\n",
       "    </tr>\n",
       "  </thead>\n",
       "  <tbody>\n",
       "    <tr>\n",
       "      <th>0</th>\n",
       "      <td>-2.3</td>\n",
       "      <td>0.568</td>\n",
       "      <td>4.78</td>\n",
       "      <td>3.99</td>\n",
       "      <td>3.17</td>\n",
       "      <td>0.125</td>\n",
       "      <td>0.11</td>\n",
       "    </tr>\n",
       "    <tr>\n",
       "      <th>1</th>\n",
       "      <td>-2.3</td>\n",
       "      <td>0.568</td>\n",
       "      <td>4.78</td>\n",
       "      <td>3.99</td>\n",
       "      <td>3.17</td>\n",
       "      <td>0.150</td>\n",
       "      <td>0.27</td>\n",
       "    </tr>\n",
       "    <tr>\n",
       "      <th>2</th>\n",
       "      <td>-2.3</td>\n",
       "      <td>0.568</td>\n",
       "      <td>4.78</td>\n",
       "      <td>3.99</td>\n",
       "      <td>3.17</td>\n",
       "      <td>0.175</td>\n",
       "      <td>0.47</td>\n",
       "    </tr>\n",
       "    <tr>\n",
       "      <th>3</th>\n",
       "      <td>-2.3</td>\n",
       "      <td>0.568</td>\n",
       "      <td>4.78</td>\n",
       "      <td>3.99</td>\n",
       "      <td>3.17</td>\n",
       "      <td>0.200</td>\n",
       "      <td>0.78</td>\n",
       "    </tr>\n",
       "    <tr>\n",
       "      <th>4</th>\n",
       "      <td>-2.3</td>\n",
       "      <td>0.568</td>\n",
       "      <td>4.78</td>\n",
       "      <td>3.99</td>\n",
       "      <td>3.17</td>\n",
       "      <td>0.225</td>\n",
       "      <td>1.18</td>\n",
       "    </tr>\n",
       "  </tbody>\n",
       "</table>\n",
       "</div>"
      ],
      "text/plain": [
       "   Long pos  Prismatic coeff  Length-displacement ratio  Beam-draught ratio  \\\n",
       "0      -2.3            0.568                       4.78                3.99   \n",
       "1      -2.3            0.568                       4.78                3.99   \n",
       "2      -2.3            0.568                       4.78                3.99   \n",
       "3      -2.3            0.568                       4.78                3.99   \n",
       "4      -2.3            0.568                       4.78                3.99   \n",
       "\n",
       "   Length-beam ratio  Froude number  Residuary resistance  \n",
       "0               3.17          0.125                  0.11  \n",
       "1               3.17          0.150                  0.27  \n",
       "2               3.17          0.175                  0.47  \n",
       "3               3.17          0.200                  0.78  \n",
       "4               3.17          0.225                  1.18  "
      ]
     },
     "execution_count": 49,
     "metadata": {},
     "output_type": "execute_result"
    }
   ],
   "source": [
    "yacht.head()"
   ]
  },
  {
   "cell_type": "code",
   "execution_count": 50,
   "metadata": {},
   "outputs": [
    {
     "data": {
      "text/html": [
       "<div>\n",
       "<style scoped>\n",
       "    .dataframe tbody tr th:only-of-type {\n",
       "        vertical-align: middle;\n",
       "    }\n",
       "\n",
       "    .dataframe tbody tr th {\n",
       "        vertical-align: top;\n",
       "    }\n",
       "\n",
       "    .dataframe thead th {\n",
       "        text-align: right;\n",
       "    }\n",
       "</style>\n",
       "<table border=\"1\" class=\"dataframe\">\n",
       "  <thead>\n",
       "    <tr style=\"text-align: right;\">\n",
       "      <th></th>\n",
       "      <th>Long pos</th>\n",
       "      <th>Prismatic coeff</th>\n",
       "      <th>Length-displacement ratio</th>\n",
       "      <th>Beam-draught ratio</th>\n",
       "      <th>Length-beam ratio</th>\n",
       "      <th>Froude number</th>\n",
       "      <th>Residuary resistance</th>\n",
       "    </tr>\n",
       "  </thead>\n",
       "  <tbody>\n",
       "    <tr>\n",
       "      <th>count</th>\n",
       "      <td>308.000000</td>\n",
       "      <td>308.000000</td>\n",
       "      <td>308.000000</td>\n",
       "      <td>308.000000</td>\n",
       "      <td>308.000000</td>\n",
       "      <td>308.000000</td>\n",
       "      <td>308.000000</td>\n",
       "    </tr>\n",
       "    <tr>\n",
       "      <th>mean</th>\n",
       "      <td>-2.381818</td>\n",
       "      <td>0.564136</td>\n",
       "      <td>4.788636</td>\n",
       "      <td>3.936818</td>\n",
       "      <td>3.206818</td>\n",
       "      <td>0.287500</td>\n",
       "      <td>10.495357</td>\n",
       "    </tr>\n",
       "    <tr>\n",
       "      <th>std</th>\n",
       "      <td>1.513219</td>\n",
       "      <td>0.023290</td>\n",
       "      <td>0.253057</td>\n",
       "      <td>0.548193</td>\n",
       "      <td>0.247998</td>\n",
       "      <td>0.100942</td>\n",
       "      <td>15.160490</td>\n",
       "    </tr>\n",
       "    <tr>\n",
       "      <th>min</th>\n",
       "      <td>-5.000000</td>\n",
       "      <td>0.530000</td>\n",
       "      <td>4.340000</td>\n",
       "      <td>2.810000</td>\n",
       "      <td>2.730000</td>\n",
       "      <td>0.125000</td>\n",
       "      <td>0.010000</td>\n",
       "    </tr>\n",
       "    <tr>\n",
       "      <th>25%</th>\n",
       "      <td>-2.400000</td>\n",
       "      <td>0.546000</td>\n",
       "      <td>4.770000</td>\n",
       "      <td>3.750000</td>\n",
       "      <td>3.150000</td>\n",
       "      <td>0.200000</td>\n",
       "      <td>0.777500</td>\n",
       "    </tr>\n",
       "    <tr>\n",
       "      <th>50%</th>\n",
       "      <td>-2.300000</td>\n",
       "      <td>0.565000</td>\n",
       "      <td>4.780000</td>\n",
       "      <td>3.955000</td>\n",
       "      <td>3.150000</td>\n",
       "      <td>0.287500</td>\n",
       "      <td>3.065000</td>\n",
       "    </tr>\n",
       "    <tr>\n",
       "      <th>75%</th>\n",
       "      <td>-2.300000</td>\n",
       "      <td>0.574000</td>\n",
       "      <td>5.100000</td>\n",
       "      <td>4.170000</td>\n",
       "      <td>3.510000</td>\n",
       "      <td>0.375000</td>\n",
       "      <td>12.815000</td>\n",
       "    </tr>\n",
       "    <tr>\n",
       "      <th>max</th>\n",
       "      <td>0.000000</td>\n",
       "      <td>0.600000</td>\n",
       "      <td>5.140000</td>\n",
       "      <td>5.350000</td>\n",
       "      <td>3.640000</td>\n",
       "      <td>0.450000</td>\n",
       "      <td>62.420000</td>\n",
       "    </tr>\n",
       "  </tbody>\n",
       "</table>\n",
       "</div>"
      ],
      "text/plain": [
       "         Long pos  Prismatic coeff  Length-displacement ratio  \\\n",
       "count  308.000000       308.000000                 308.000000   \n",
       "mean    -2.381818         0.564136                   4.788636   \n",
       "std      1.513219         0.023290                   0.253057   \n",
       "min     -5.000000         0.530000                   4.340000   \n",
       "25%     -2.400000         0.546000                   4.770000   \n",
       "50%     -2.300000         0.565000                   4.780000   \n",
       "75%     -2.300000         0.574000                   5.100000   \n",
       "max      0.000000         0.600000                   5.140000   \n",
       "\n",
       "       Beam-draught ratio  Length-beam ratio  Froude number  \\\n",
       "count          308.000000         308.000000     308.000000   \n",
       "mean             3.936818           3.206818       0.287500   \n",
       "std              0.548193           0.247998       0.100942   \n",
       "min              2.810000           2.730000       0.125000   \n",
       "25%              3.750000           3.150000       0.200000   \n",
       "50%              3.955000           3.150000       0.287500   \n",
       "75%              4.170000           3.510000       0.375000   \n",
       "max              5.350000           3.640000       0.450000   \n",
       "\n",
       "       Residuary resistance  \n",
       "count            308.000000  \n",
       "mean              10.495357  \n",
       "std               15.160490  \n",
       "min                0.010000  \n",
       "25%                0.777500  \n",
       "50%                3.065000  \n",
       "75%               12.815000  \n",
       "max               62.420000  "
      ]
     },
     "execution_count": 50,
     "metadata": {},
     "output_type": "execute_result"
    }
   ],
   "source": [
    "yacht.describe()"
   ]
  },
  {
   "cell_type": "code",
   "execution_count": 51,
   "metadata": {},
   "outputs": [
    {
     "name": "stdout",
     "output_type": "stream",
     "text": [
      "<class 'pandas.core.frame.DataFrame'>\n",
      "RangeIndex: 308 entries, 0 to 307\n",
      "Data columns (total 7 columns):\n",
      "Long pos                     308 non-null float64\n",
      "Prismatic coeff              308 non-null float64\n",
      "Length-displacement ratio    308 non-null float64\n",
      "Beam-draught ratio           308 non-null float64\n",
      "Length-beam ratio            308 non-null float64\n",
      "Froude number                308 non-null float64\n",
      "Residuary resistance         308 non-null float64\n",
      "dtypes: float64(7)\n",
      "memory usage: 16.9 KB\n"
     ]
    }
   ],
   "source": [
    "yacht.info()"
   ]
  },
  {
   "cell_type": "markdown",
   "metadata": {},
   "source": [
    "#### Exploratory Data Analysis"
   ]
  },
  {
   "cell_type": "code",
   "execution_count": 56,
   "metadata": {},
   "outputs": [
    {
     "name": "stdout",
     "output_type": "stream",
     "text": [
      "There are 0 NULL values\n",
      "There are 0 Nan values\n"
     ]
    }
   ],
   "source": [
    "# Looking for missing values\n",
    "\n",
    "# NULL values\n",
    "print(\"There are\",yacht.isnull().any().sum(),\"NULL values\")\n",
    "\n",
    "# Na values\n",
    "print(\"There are\",yacht.isna().any().sum(),\"Nan values\")"
   ]
  },
  {
   "cell_type": "code",
   "execution_count": 59,
   "metadata": {},
   "outputs": [
    {
     "data": {
      "text/plain": [
       "<matplotlib.axes._subplots.AxesSubplot at 0x1a174af0b8>"
      ]
     },
     "execution_count": 59,
     "metadata": {},
     "output_type": "execute_result"
    },
    {
     "data": {
      "image/png": "[encoded data removed]",
      "text/plain": [
       "<Figure size 864x576 with 2 Axes>"
      ]
     },
     "metadata": {},
     "output_type": "display_data"
    }
   ],
   "source": [
    "# Setting the size of the following figures\n",
    "sns.set(rc={'figure.figsize':(12,8)})\n",
    "\n",
    "# Now exploring the correlations of each feature and the target\n",
    "sns.heatmap(yacht.corr().round(2), annot=True)"
   ]
  },
  {
   "cell_type": "code",
   "execution_count": 60,
   "metadata": {},
   "outputs": [
    {
     "data": {
      "text/plain": [
       "<matplotlib.axes._subplots.AxesSubplot at 0x1a174afeb8>"
      ]
     },
     "execution_count": 60,
     "metadata": {},
     "output_type": "execute_result"
    },
    {
     "data": {
      "image/png": "[encoded data removed]",
      "text/plain": [
       "<Figure size 864x576 with 1 Axes>"
      ]
     },
     "metadata": {},
     "output_type": "display_data"
    }
   ],
   "source": [
    "# Looking for outliers\n",
    "sns.boxplot(yacht['Residuary resistance'])"
   ]
  },
  {
   "cell_type": "code",
   "execution_count": 75,
   "metadata": {},
   "outputs": [
    {
     "data": {
      "text/plain": [
       "42"
      ]
     },
     "execution_count": 75,
     "metadata": {},
     "output_type": "execute_result"
    }
   ],
   "source": [
    "# Outliers\n",
    "yacht[yacht['Residuary resistance']>31].count()"
   ]
  },
  {
   "cell_type": "code",
   "execution_count": 70,
   "metadata": {},
   "outputs": [
    {
     "data": {
      "text/plain": [
       "308"
      ]
     },
     "execution_count": 70,
     "metadata": {},
     "output_type": "execute_result"
    }
   ],
   "source": [
    "# Observations\n",
    "yacht.shape[0]"
   ]
  },
  {
   "cell_type": "code",
   "execution_count": 79,
   "metadata": {},
   "outputs": [
    {
     "name": "stdout",
     "output_type": "stream",
     "text": [
      "There is a total number of 42 out of the Q3. \n",
      " Since the total number of observations is 308 the studied outliers would not be removed\n"
     ]
    }
   ],
   "source": [
    "print(\"There is a total number of\",yacht[yacht['Residuary resistance']>31].count()[1],\"out of the Q3.\",\"\\n\",\n",
    "     \"Since the total number of observations is\",yacht.shape[0],\"the studied outliers would not be removed\")"
   ]
  },
  {
   "cell_type": "markdown",
   "metadata": {},
   "source": [
    "#### Creatind data partition"
   ]
  },
  {
   "cell_type": "code",
   "execution_count": 83,
   "metadata": {},
   "outputs": [
    {
     "data": {
      "text/plain": [
       "Index(['Long pos', 'Prismatic coeff', 'Length-displacement ratio',\n",
       "       'Beam-draught ratio', 'Length-beam ratio', 'Froude number',\n",
       "       'Residuary resistance'],\n",
       "      dtype='object')"
      ]
     },
     "execution_count": 83,
     "metadata": {},
     "output_type": "execute_result"
    }
   ],
   "source": [
    "# Colunm names\n",
    "yacht.columns"
   ]
  },
  {
   "cell_type": "code",
   "execution_count": 87,
   "metadata": {},
   "outputs": [],
   "source": [
    "X = yacht[['Long pos', 'Prismatic coeff', 'Length-displacement ratio',\n",
    "       'Beam-draught ratio', 'Length-beam ratio', 'Froude number']]\n",
    "y = yacht['Residuary resistance']\n",
    "\n",
    "X_train,X_test,y_train,y_test = train_test_split(X,y,test_size=0.30,random_state=123)"
   ]
  },
  {
   "cell_type": "markdown",
   "metadata": {},
   "source": [
    "### Linear Regression model"
   ]
  },
  {
   "cell_type": "code",
   "execution_count": 90,
   "metadata": {},
   "outputs": [],
   "source": [
    "# Creating the Linear Regression model\n",
    "model = sm.OLS(y_train, X_train)\n",
    "\n",
    "# Fitting the model\n",
    "results = model.fit()"
   ]
  },
  {
   "cell_type": "code",
   "execution_count": 91,
   "metadata": {},
   "outputs": [
    {
     "name": "stdout",
     "output_type": "stream",
     "text": [
      "                             OLS Regression Results                             \n",
      "================================================================================\n",
      "Dep. Variable:     Residuary resistance   R-squared:                       0.759\n",
      "Model:                              OLS   Adj. R-squared:                  0.752\n",
      "Method:                   Least Squares   F-statistic:                     109.7\n",
      "Date:                  Sat, 04 Jan 2020   Prob (F-statistic):           8.56e-62\n",
      "Time:                          00:48:37   Log-Likelihood:                -776.07\n",
      "No. Observations:                   215   AIC:                             1564.\n",
      "Df Residuals:                       209   BIC:                             1584.\n",
      "Df Model:                             6                                         \n",
      "Covariance Type:              nonrobust                                         \n",
      "=============================================================================================\n",
      "                                coef    std err          t      P>|t|      [0.025      0.975]\n",
      "---------------------------------------------------------------------------------------------\n",
      "Long pos                      0.1859      0.400      0.465      0.642      -0.602       0.974\n",
      "Prismatic coeff             -26.5344     19.305     -1.374      0.171     -64.592      11.523\n",
      "Length-displacement ratio    -9.4192      9.704     -0.971      0.333     -28.550       9.711\n",
      "Beam-draught ratio            3.0936      4.118      0.751      0.453      -5.024      11.211\n",
      "Length-beam ratio             7.7576     11.008      0.705      0.482     -13.944      29.459\n",
      "Froude number               118.3060      6.086     19.439      0.000     106.308     130.304\n",
      "==============================================================================\n",
      "Omnibus:                       30.301   Durbin-Watson:                   2.036\n",
      "Prob(Omnibus):                  0.000   Jarque-Bera (JB):               38.342\n",
      "Skew:                           0.983   Prob(JB):                     4.72e-09\n",
      "Kurtosis:                       3.647   Cond. No.                         254.\n",
      "==============================================================================\n",
      "\n",
      "Warnings:\n",
      "[1] Standard Errors assume that the covariance matrix of the errors is correctly specified.\n"
     ]
    }
   ],
   "source": [
    "# Showing the metrics\n",
    "print(results.summary())"
   ]
  },
  {
   "cell_type": "markdown",
   "metadata": {},
   "source": [
    "#### MSE Linear model"
   ]
  },
  {
   "cell_type": "code",
   "execution_count": 93,
   "metadata": {},
   "outputs": [
    {
     "name": "stdout",
     "output_type": "stream",
     "text": [
      "MSE 76.82349180374882\n"
     ]
    }
   ],
   "source": [
    "# Predictions with test \n",
    "y_pred = results.predict(X_test)\n",
    "\n",
    "# Evaluating Metrics with statsmodel\n",
    "print(\"MSE\", metrics.mean_squared_error(y_test, y_pred))"
   ]
  },
  {
   "cell_type": "code",
   "execution_count": 99,
   "metadata": {},
   "outputs": [
    {
     "name": "stdout",
     "output_type": "stream",
     "text": [
      "The most significant variable is Froude Number with a t-statistic of 19.439. \n",
      " \n",
      " The total MSE with standard linear regression model is 76.82349180374882\n"
     ]
    }
   ],
   "source": [
    "print(\"The most significant variable is Froude Number with a t-statistic of 19.439.\",\"\\n\",\"\\n\",\n",
    "     \"The total MSE with standard linear regression model is\",metrics.mean_squared_error(y_test, y_pred))"
   ]
  },
  {
   "cell_type": "markdown",
   "metadata": {},
   "source": [
    "### Cross Validation"
   ]
  },
  {
   "cell_type": "markdown",
   "metadata": {},
   "source": [
    "By splitting the data two times, it is created the trainning set and the validation set"
   ]
  },
  {
   "cell_type": "code",
   "execution_count": 101,
   "metadata": {},
   "outputs": [],
   "source": [
    "X = yacht[['Long pos', 'Prismatic coeff', 'Length-displacement ratio',\n",
    "       'Beam-draught ratio', 'Length-beam ratio', 'Froude number']]\n",
    "y = yacht['Residuary resistance']\n",
    "\n",
    "# Split the data into train and test set\n",
    "X_train,X_test,y_train,y_test = train_test_split(X,y,test_size=0.2,random_state=123)\n",
    "\n",
    "# Split the data into train and validation set\n",
    "X_train,X_val,y_train,y_val = train_test_split(X_train,y_train,test_size=0.2,random_state=123)"
   ]
  },
  {
   "cell_type": "markdown",
   "metadata": {},
   "source": [
    "Studying the resulting train, test and validation sets:"
   ]
  },
  {
   "cell_type": "code",
   "execution_count": 104,
   "metadata": {},
   "outputs": [
    {
     "name": "stdout",
     "output_type": "stream",
     "text": [
      "The sizes for each set is: \n",
      " Dimension of observations, X: (308, 6) \n",
      " Dimension of training set, X train: (196, 6) \n",
      " Dimension of test set, X test: (62, 6) \n",
      " Dimension of validation set, X val: (50, 6)\n"
     ]
    }
   ],
   "source": [
    "print(\"The sizes for each set is:\",\"\\n\",\n",
    "     \"Dimension of observations, X:\",X.shape,\"\\n\",\n",
    "     \"Dimension of training set, X train:\",X_train.shape,\"\\n\",\n",
    "     \"Dimension of test set, X test:\",X_test.shape,\"\\n\",\n",
    "     \"Dimension of validation set, X val:\",X_val.shape)"
   ]
  },
  {
   "cell_type": "markdown",
   "metadata": {},
   "source": [
    "Now, by training the data in the training dataset and then validating which algorithm should be used with the data by using the validation dataset and finally, using test dataset to calculate the MSE of the model with the chosen algorithm."
   ]
  },
  {
   "cell_type": "markdown",
   "metadata": {},
   "source": [
    "### Validation set. Two fold Cross Validation"
   ]
  },
  {
   "cell_type": "markdown",
   "metadata": {},
   "source": [
    "By using the previous statement, it would be used functions from python libraries to perform the different cross validation models and finally, comparing them.\n",
    "The two fold cross validation is equivalent to validation set approach. "
   ]
  },
  {
   "cell_type": "markdown",
   "metadata": {},
   "source": [
    "#### 1 - Manually"
   ]
  },
  {
   "cell_type": "code",
   "execution_count": 108,
   "metadata": {},
   "outputs": [],
   "source": [
    "# Split the data into two sets\n",
    "X1,X2,y1,y2 = train_test_split(X,y,test_size=0.5,random_state=123)\n",
    "\n",
    "# Creating the Linear Regression model\n",
    "lm = LinearRegression()"
   ]
  },
  {
   "cell_type": "code",
   "execution_count": 106,
   "metadata": {},
   "outputs": [],
   "source": [
    "# First validation set"
   ]
  },
  {
   "cell_type": "code",
   "execution_count": 113,
   "metadata": {},
   "outputs": [
    {
     "name": "stdout",
     "output_type": "stream",
     "text": [
      "MSE 84.99996680327054\n",
      "Score: 0.65639279857497\n"
     ]
    }
   ],
   "source": [
    "model_1 = lm.fit(X1,y1)\n",
    "y_pred_1 = model_1.predict(X2)\n",
    "\n",
    "print(\"MSE\", metrics.mean_squared_error(y2, y_pred_1))  #MSE\n",
    "print(\"Score:\", model_1.score(X2,y2))             #R squared"
   ]
  },
  {
   "cell_type": "code",
   "execution_count": null,
   "metadata": {},
   "outputs": [],
   "source": [
    "# Second validation set"
   ]
  },
  {
   "cell_type": "code",
   "execution_count": 114,
   "metadata": {},
   "outputs": [
    {
     "name": "stdout",
     "output_type": "stream",
     "text": [
      "MSE 80.3845962001944\n",
      "Score: 0.6153239452665499\n"
     ]
    }
   ],
   "source": [
    "model_2 = lm.fit(X2,y2)\n",
    "y_pred_2 = model_1.predict(X1)\n",
    "\n",
    "print(\"MSE\", metrics.mean_squared_error(y1, y_pred_2))  #MSE\n",
    "print(\"Score:\", model_2.score(X1,y1))             #R squared"
   ]
  },
  {
   "cell_type": "markdown",
   "metadata": {},
   "source": [
    "And hence, the resulting MSE and R squared will be the mean of both values"
   ]
  },
  {
   "cell_type": "code",
   "execution_count": 119,
   "metadata": {},
   "outputs": [
    {
     "name": "stdout",
     "output_type": "stream",
     "text": [
      "Final MSE 82.69228150173247\n",
      "Final R2: 0.6456682227239923\n"
     ]
    }
   ],
   "source": [
    "print(\"Final MSE\", (metrics.mean_squared_error(y1, y_pred_2)+metrics.mean_squared_error(y2, y_pred_1))/2)  #MSE\n",
    "print(\"Final R2:\", (model_2.score(X1,y1)+model_1.score(X2,y2))/2)             #R squared"
   ]
  },
  {
   "cell_type": "markdown",
   "metadata": {},
   "source": [
    "#### 2 - With CV"
   ]
  },
  {
   "cell_type": "code",
   "execution_count": 138,
   "metadata": {},
   "outputs": [
    {
     "data": {
      "text/plain": [
       "0.6211615283181438"
      ]
     },
     "execution_count": 138,
     "metadata": {},
     "output_type": "execute_result"
    }
   ],
   "source": [
    "cross_val_score(lm, X, y, cv=2)"
   ]
  },
  {
   "cell_type": "markdown",
   "metadata": {},
   "source": [
    "It is noted that the selected (randomly) sets give a different R2 but close to the previous value. Since the result depend on which validation set is used and the MSE can be highly variable, it would be necessary to solve it by using other LOOCV"
   ]
  },
  {
   "cell_type": "markdown",
   "metadata": {},
   "source": [
    "### LOOCV"
   ]
  },
  {
   "cell_type": "code",
   "execution_count": 55,
   "metadata": {},
   "outputs": [
    {
     "ename": "NameError",
     "evalue": "name 'lm' is not defined",
     "output_type": "error",
     "traceback": [
      "\u001b[0;31m---------------------------------------------------------------------------\u001b[0m",
      "\u001b[0;31mNameError\u001b[0m                                 Traceback (most recent call last)",
      "\u001b[0;32m<ipython-input-55-fb4bdb1a8371>\u001b[0m in \u001b[0;36m<module>\u001b[0;34m()\u001b[0m\n\u001b[0;32m----> 1\u001b[0;31m \u001b[0mcross_val_score\u001b[0m\u001b[0;34m(\u001b[0m\u001b[0mlm\u001b[0m\u001b[0;34m,\u001b[0m \u001b[0mX\u001b[0m\u001b[0;34m,\u001b[0m \u001b[0my\u001b[0m\u001b[0;34m,\u001b[0m \u001b[0mcv\u001b[0m\u001b[0;34m=\u001b[0m\u001b[0mLeaveOneOut\u001b[0m\u001b[0;34m(\u001b[0m\u001b[0mlen\u001b[0m\u001b[0;34m(\u001b[0m\u001b[0mX\u001b[0m\u001b[0;34m)\u001b[0m\u001b[0;34m)\u001b[0m\u001b[0;34m)\u001b[0m\u001b[0;34m.\u001b[0m\u001b[0mmean\u001b[0m\u001b[0;34m(\u001b[0m\u001b[0;34m)\u001b[0m\u001b[0;34m\u001b[0m\u001b[0m\n\u001b[0m",
      "\u001b[0;31mNameError\u001b[0m: name 'lm' is not defined"
     ]
    }
   ],
   "source": [
    "cross_val_score(lm, X, y, cv=LeaveOneOut(len(X))).mean()"
   ]
  },
  {
   "cell_type": "markdown",
   "metadata": {},
   "source": [
    "As it would be shown, the LOOCV works better with classification models, not with linear regression models"
   ]
  },
  {
   "cell_type": "markdown",
   "metadata": {},
   "source": [
    "### K-fold"
   ]
  },
  {
   "cell_type": "markdown",
   "metadata": {},
   "source": [
    "The best results are obtained with 5 or 10 fold validation and therefore, those would be used."
   ]
  },
  {
   "cell_type": "code",
   "execution_count": 134,
   "metadata": {},
   "outputs": [
    {
     "data": {
      "text/plain": [
       "0.6495893763245543"
      ]
     },
     "execution_count": 134,
     "metadata": {},
     "output_type": "execute_result"
    }
   ],
   "source": [
    "# 5 fold \n",
    "cross_val_score(lm, X, y, cv=5).mean()"
   ]
  },
  {
   "cell_type": "code",
   "execution_count": 135,
   "metadata": {},
   "outputs": [
    {
     "data": {
      "text/plain": [
       "0.6449420302154792"
      ]
     },
     "execution_count": 135,
     "metadata": {},
     "output_type": "execute_result"
    }
   ],
   "source": [
    "# 10 fold \n",
    "cross_val_score(lm, X, y, cv=10).mean()"
   ]
  },
  {
   "cell_type": "markdown",
   "metadata": {},
   "source": [
    "### Conclusion"
   ]
  },
  {
   "cell_type": "code",
   "execution_count": 139,
   "metadata": {},
   "outputs": [
    {
     "name": "stdout",
     "output_type": "stream",
     "text": [
      "The scores for each model are: \n",
      " For validation set approach: 0.6211615283181438 \n",
      " For LOOCV: 0.0 \n",
      " For 5 fold cross validation 0.6495893763245543 \n",
      " For 10 fold cross validation 0.6449420302154792 \n",
      "\n"
     ]
    }
   ],
   "source": [
    "print(\"The scores for each model are:\",\"\\n\",\n",
    "     \"For validation set approach:\",cross_val_score(lm, X, y, cv=2).mean(),\"\\n\",\n",
    "     \"For LOOCV:\",cross_val_score(lm, X, y, cv=len(X)).mean(),\"\\n\",\n",
    "     \"For 5 fold cross validation\",cross_val_score(lm, X, y, cv=5).mean(),\"\\n\",\n",
    "     \"For 10 fold cross validation\",cross_val_score(lm, X, y, cv=10).mean(),\"\\n\")"
   ]
  },
  {
   "cell_type": "markdown",
   "metadata": {},
   "source": [
    "And hence, it would be used the 5 fold cross validation for predicting the result"
   ]
  },
  {
   "cell_type": "markdown",
   "metadata": {},
   "source": [
    "### Final model"
   ]
  },
  {
   "cell_type": "code",
   "execution_count": 164,
   "metadata": {},
   "outputs": [
    {
     "data": {
      "text/plain": [
       "5"
      ]
     },
     "execution_count": 164,
     "metadata": {},
     "output_type": "execute_result"
    }
   ],
   "source": [
    "# Creating the model of K fold with 5 splits\n",
    "kf = KFold(n_splits=5)\n",
    "\n",
    "# Showing the splits\n",
    "kf.get_n_splits(X)"
   ]
  },
  {
   "cell_type": "code",
   "execution_count": 201,
   "metadata": {},
   "outputs": [],
   "source": [
    "# Fiting the model\n",
    "MSE_list = list()\n",
    "R_list = list()\n",
    "\n",
    "for train_index, test_index in kf.split(X):\n",
    "    X_train, X_test = X.iloc[train_index], X.iloc[test_index]\n",
    "    y_train, y_test = y.iloc[train_index], y.iloc[test_index]\n",
    "    \n",
    "    result = lm.fit(X_train,y_train)\n",
    "    y_pred = result.predict(X_test)\n",
    "    \n",
    "    MSE_list.append(metrics.mean_squared_error(y_test, y_pred))\n",
    "    R_list.append(result.score(X_test,y_test))"
   ]
  },
  {
   "cell_type": "markdown",
   "metadata": {},
   "source": [
    "#### Result of the 5 fold"
   ]
  },
  {
   "cell_type": "markdown",
   "metadata": {},
   "source": [
    "First, it is possible to study the dimensions of each train and test set of the latest fold:"
   ]
  },
  {
   "cell_type": "code",
   "execution_count": 202,
   "metadata": {},
   "outputs": [
    {
     "name": "stdout",
     "output_type": "stream",
     "text": [
      "Dimensions of set for each fold:\n",
      "X train set -> (247, 6) + X test set -> (61, 6) = X set (308, 6)\n",
      "y train set -> (247,) + y test set -> (61,) = X set (308,)\n"
     ]
    }
   ],
   "source": [
    "print(\"Dimensions of set for each fold:\")\n",
    "print(\"X train set ->\",X_train.shape,\"+\",\"X test set ->\",X_test.shape,\"=\",\"X set\",X.shape)\n",
    "print(\"y train set ->\",y_train.shape,\"+\",\"y test set ->\",y_test.shape,\"=\",\"X set\",y.shape)"
   ]
  },
  {
   "cell_type": "code",
   "execution_count": 204,
   "metadata": {},
   "outputs": [
    {
     "name": "stdout",
     "output_type": "stream",
     "text": [
      "The MSE for each fold is: [69.23, 71.06, 80.72, 92.43, 84.52]\n",
      "The R for each fold is: [0.65, 0.62, 0.68, 0.64, 0.66]\n"
     ]
    }
   ],
   "source": [
    "MSE_list = [m.round(2) for m in MSE_list]\n",
    "R_list = [r.round(2) for r in R_list]\n",
    "print(\"The MSE for each fold is:\",MSE_list)\n",
    "print(\"The R for each fold is:\",R_list)"
   ]
  },
  {
   "cell_type": "code",
   "execution_count": 224,
   "metadata": {},
   "outputs": [
    {
     "name": "stdout",
     "output_type": "stream",
     "text": [
      "The overall MSE and R are: \n",
      " \n",
      " MSE: 79.59 \n",
      " R: 0.65\n"
     ]
    }
   ],
   "source": [
    "print(\"The overall MSE and R are:\",\"\\n\",\"\\n\",\n",
    "      \"MSE:\",round(sum(MSE_list)/kf.get_n_splits(X),2),\"\\n\",\"R:\",round(sum(R_list)/kf.get_n_splits(X),2))"
   ]
  },
  {
   "cell_type": "markdown",
   "metadata": {},
   "source": [
    "### Problem 2. Cross validation on abalone (Logistic Regression)"
   ]
  },
  {
   "cell_type": "markdown",
   "metadata": {},
   "source": [
    "#### Reading the abalone dataset"
   ]
  },
  {
   "cell_type": "code",
   "execution_count": 5,
   "metadata": {},
   "outputs": [],
   "source": [
    "abalone = pd.read_csv(\"abalone.data\", sep=',',\n",
    "                    names=['Sex','Length','Diameter','Height','Whole weight',\n",
    "                          'Shucked weight','Viscera weight','Shell weight','Rings'])"
   ]
  },
  {
   "cell_type": "code",
   "execution_count": 6,
   "metadata": {},
   "outputs": [
    {
     "data": {
      "text/html": [
       "<div>\n",
       "<style scoped>\n",
       "    .dataframe tbody tr th:only-of-type {\n",
       "        vertical-align: middle;\n",
       "    }\n",
       "\n",
       "    .dataframe tbody tr th {\n",
       "        vertical-align: top;\n",
       "    }\n",
       "\n",
       "    .dataframe thead th {\n",
       "        text-align: right;\n",
       "    }\n",
       "</style>\n",
       "<table border=\"1\" class=\"dataframe\">\n",
       "  <thead>\n",
       "    <tr style=\"text-align: right;\">\n",
       "      <th></th>\n",
       "      <th>Sex</th>\n",
       "      <th>Length</th>\n",
       "      <th>Diameter</th>\n",
       "      <th>Height</th>\n",
       "      <th>Whole weight</th>\n",
       "      <th>Shucked weight</th>\n",
       "      <th>Viscera weight</th>\n",
       "      <th>Shell weight</th>\n",
       "      <th>Rings</th>\n",
       "    </tr>\n",
       "  </thead>\n",
       "  <tbody>\n",
       "    <tr>\n",
       "      <th>0</th>\n",
       "      <td>M</td>\n",
       "      <td>0.455</td>\n",
       "      <td>0.365</td>\n",
       "      <td>0.095</td>\n",
       "      <td>0.5140</td>\n",
       "      <td>0.2245</td>\n",
       "      <td>0.1010</td>\n",
       "      <td>0.150</td>\n",
       "      <td>15</td>\n",
       "    </tr>\n",
       "    <tr>\n",
       "      <th>1</th>\n",
       "      <td>M</td>\n",
       "      <td>0.350</td>\n",
       "      <td>0.265</td>\n",
       "      <td>0.090</td>\n",
       "      <td>0.2255</td>\n",
       "      <td>0.0995</td>\n",
       "      <td>0.0485</td>\n",
       "      <td>0.070</td>\n",
       "      <td>7</td>\n",
       "    </tr>\n",
       "    <tr>\n",
       "      <th>2</th>\n",
       "      <td>F</td>\n",
       "      <td>0.530</td>\n",
       "      <td>0.420</td>\n",
       "      <td>0.135</td>\n",
       "      <td>0.6770</td>\n",
       "      <td>0.2565</td>\n",
       "      <td>0.1415</td>\n",
       "      <td>0.210</td>\n",
       "      <td>9</td>\n",
       "    </tr>\n",
       "    <tr>\n",
       "      <th>3</th>\n",
       "      <td>M</td>\n",
       "      <td>0.440</td>\n",
       "      <td>0.365</td>\n",
       "      <td>0.125</td>\n",
       "      <td>0.5160</td>\n",
       "      <td>0.2155</td>\n",
       "      <td>0.1140</td>\n",
       "      <td>0.155</td>\n",
       "      <td>10</td>\n",
       "    </tr>\n",
       "    <tr>\n",
       "      <th>4</th>\n",
       "      <td>I</td>\n",
       "      <td>0.330</td>\n",
       "      <td>0.255</td>\n",
       "      <td>0.080</td>\n",
       "      <td>0.2050</td>\n",
       "      <td>0.0895</td>\n",
       "      <td>0.0395</td>\n",
       "      <td>0.055</td>\n",
       "      <td>7</td>\n",
       "    </tr>\n",
       "  </tbody>\n",
       "</table>\n",
       "</div>"
      ],
      "text/plain": [
       "  Sex  Length  Diameter  Height  Whole weight  Shucked weight  Viscera weight  \\\n",
       "0   M   0.455     0.365   0.095        0.5140          0.2245          0.1010   \n",
       "1   M   0.350     0.265   0.090        0.2255          0.0995          0.0485   \n",
       "2   F   0.530     0.420   0.135        0.6770          0.2565          0.1415   \n",
       "3   M   0.440     0.365   0.125        0.5160          0.2155          0.1140   \n",
       "4   I   0.330     0.255   0.080        0.2050          0.0895          0.0395   \n",
       "\n",
       "   Shell weight  Rings  \n",
       "0         0.150     15  \n",
       "1         0.070      7  \n",
       "2         0.210      9  \n",
       "3         0.155     10  \n",
       "4         0.055      7  "
      ]
     },
     "execution_count": 6,
     "metadata": {},
     "output_type": "execute_result"
    }
   ],
   "source": [
    "abalone.head()"
   ]
  },
  {
   "cell_type": "code",
   "execution_count": 7,
   "metadata": {},
   "outputs": [
    {
     "data": {
      "text/html": [
       "<div>\n",
       "<style scoped>\n",
       "    .dataframe tbody tr th:only-of-type {\n",
       "        vertical-align: middle;\n",
       "    }\n",
       "\n",
       "    .dataframe tbody tr th {\n",
       "        vertical-align: top;\n",
       "    }\n",
       "\n",
       "    .dataframe thead th {\n",
       "        text-align: right;\n",
       "    }\n",
       "</style>\n",
       "<table border=\"1\" class=\"dataframe\">\n",
       "  <thead>\n",
       "    <tr style=\"text-align: right;\">\n",
       "      <th></th>\n",
       "      <th>Length</th>\n",
       "      <th>Diameter</th>\n",
       "      <th>Height</th>\n",
       "      <th>Whole weight</th>\n",
       "      <th>Shucked weight</th>\n",
       "      <th>Viscera weight</th>\n",
       "      <th>Shell weight</th>\n",
       "      <th>Rings</th>\n",
       "    </tr>\n",
       "  </thead>\n",
       "  <tbody>\n",
       "    <tr>\n",
       "      <th>count</th>\n",
       "      <td>4177.000000</td>\n",
       "      <td>4177.000000</td>\n",
       "      <td>4177.000000</td>\n",
       "      <td>4177.000000</td>\n",
       "      <td>4177.000000</td>\n",
       "      <td>4177.000000</td>\n",
       "      <td>4177.000000</td>\n",
       "      <td>4177.000000</td>\n",
       "    </tr>\n",
       "    <tr>\n",
       "      <th>mean</th>\n",
       "      <td>0.523992</td>\n",
       "      <td>0.407881</td>\n",
       "      <td>0.139516</td>\n",
       "      <td>0.828742</td>\n",
       "      <td>0.359367</td>\n",
       "      <td>0.180594</td>\n",
       "      <td>0.238831</td>\n",
       "      <td>9.933684</td>\n",
       "    </tr>\n",
       "    <tr>\n",
       "      <th>std</th>\n",
       "      <td>0.120093</td>\n",
       "      <td>0.099240</td>\n",
       "      <td>0.041827</td>\n",
       "      <td>0.490389</td>\n",
       "      <td>0.221963</td>\n",
       "      <td>0.109614</td>\n",
       "      <td>0.139203</td>\n",
       "      <td>3.224169</td>\n",
       "    </tr>\n",
       "    <tr>\n",
       "      <th>min</th>\n",
       "      <td>0.075000</td>\n",
       "      <td>0.055000</td>\n",
       "      <td>0.000000</td>\n",
       "      <td>0.002000</td>\n",
       "      <td>0.001000</td>\n",
       "      <td>0.000500</td>\n",
       "      <td>0.001500</td>\n",
       "      <td>1.000000</td>\n",
       "    </tr>\n",
       "    <tr>\n",
       "      <th>25%</th>\n",
       "      <td>0.450000</td>\n",
       "      <td>0.350000</td>\n",
       "      <td>0.115000</td>\n",
       "      <td>0.441500</td>\n",
       "      <td>0.186000</td>\n",
       "      <td>0.093500</td>\n",
       "      <td>0.130000</td>\n",
       "      <td>8.000000</td>\n",
       "    </tr>\n",
       "    <tr>\n",
       "      <th>50%</th>\n",
       "      <td>0.545000</td>\n",
       "      <td>0.425000</td>\n",
       "      <td>0.140000</td>\n",
       "      <td>0.799500</td>\n",
       "      <td>0.336000</td>\n",
       "      <td>0.171000</td>\n",
       "      <td>0.234000</td>\n",
       "      <td>9.000000</td>\n",
       "    </tr>\n",
       "    <tr>\n",
       "      <th>75%</th>\n",
       "      <td>0.615000</td>\n",
       "      <td>0.480000</td>\n",
       "      <td>0.165000</td>\n",
       "      <td>1.153000</td>\n",
       "      <td>0.502000</td>\n",
       "      <td>0.253000</td>\n",
       "      <td>0.329000</td>\n",
       "      <td>11.000000</td>\n",
       "    </tr>\n",
       "    <tr>\n",
       "      <th>max</th>\n",
       "      <td>0.815000</td>\n",
       "      <td>0.650000</td>\n",
       "      <td>1.130000</td>\n",
       "      <td>2.825500</td>\n",
       "      <td>1.488000</td>\n",
       "      <td>0.760000</td>\n",
       "      <td>1.005000</td>\n",
       "      <td>29.000000</td>\n",
       "    </tr>\n",
       "  </tbody>\n",
       "</table>\n",
       "</div>"
      ],
      "text/plain": [
       "            Length     Diameter       Height  Whole weight  Shucked weight  \\\n",
       "count  4177.000000  4177.000000  4177.000000   4177.000000     4177.000000   \n",
       "mean      0.523992     0.407881     0.139516      0.828742        0.359367   \n",
       "std       0.120093     0.099240     0.041827      0.490389        0.221963   \n",
       "min       0.075000     0.055000     0.000000      0.002000        0.001000   \n",
       "25%       0.450000     0.350000     0.115000      0.441500        0.186000   \n",
       "50%       0.545000     0.425000     0.140000      0.799500        0.336000   \n",
       "75%       0.615000     0.480000     0.165000      1.153000        0.502000   \n",
       "max       0.815000     0.650000     1.130000      2.825500        1.488000   \n",
       "\n",
       "       Viscera weight  Shell weight        Rings  \n",
       "count     4177.000000   4177.000000  4177.000000  \n",
       "mean         0.180594      0.238831     9.933684  \n",
       "std          0.109614      0.139203     3.224169  \n",
       "min          0.000500      0.001500     1.000000  \n",
       "25%          0.093500      0.130000     8.000000  \n",
       "50%          0.171000      0.234000     9.000000  \n",
       "75%          0.253000      0.329000    11.000000  \n",
       "max          0.760000      1.005000    29.000000  "
      ]
     },
     "execution_count": 7,
     "metadata": {},
     "output_type": "execute_result"
    }
   ],
   "source": [
    "abalone.describe()"
   ]
  },
  {
   "cell_type": "code",
   "execution_count": 8,
   "metadata": {},
   "outputs": [
    {
     "name": "stdout",
     "output_type": "stream",
     "text": [
      "<class 'pandas.core.frame.DataFrame'>\n",
      "RangeIndex: 4177 entries, 0 to 4176\n",
      "Data columns (total 9 columns):\n",
      "Sex               4177 non-null object\n",
      "Length            4177 non-null float64\n",
      "Diameter          4177 non-null float64\n",
      "Height            4177 non-null float64\n",
      "Whole weight      4177 non-null float64\n",
      "Shucked weight    4177 non-null float64\n",
      "Viscera weight    4177 non-null float64\n",
      "Shell weight      4177 non-null float64\n",
      "Rings             4177 non-null int64\n",
      "dtypes: float64(7), int64(1), object(1)\n",
      "memory usage: 293.8+ KB\n"
     ]
    }
   ],
   "source": [
    "abalone.info()"
   ]
  },
  {
   "cell_type": "markdown",
   "metadata": {},
   "source": [
    "#### Exploratory Data Analysis"
   ]
  },
  {
   "cell_type": "code",
   "execution_count": 12,
   "metadata": {},
   "outputs": [
    {
     "data": {
      "text/plain": [
       "array(['M', 'F', 'I'], dtype=object)"
      ]
     },
     "execution_count": 12,
     "metadata": {},
     "output_type": "execute_result"
    }
   ],
   "source": [
    "abalone['Sex'].unique()"
   ]
  },
  {
   "cell_type": "code",
   "execution_count": 15,
   "metadata": {},
   "outputs": [
    {
     "name": "stdout",
     "output_type": "stream",
     "text": [
      "1528\n",
      "1307\n",
      "1342\n"
     ]
    },
    {
     "data": {
      "text/plain": [
       "[None, None, None]"
      ]
     },
     "execution_count": 15,
     "metadata": {},
     "output_type": "execute_result"
    }
   ],
   "source": [
    "abalone['Sex'].value_counts()"
   ]
  },
  {
   "cell_type": "markdown",
   "metadata": {},
   "source": [
    "It would be predicted the sex for Male and Female. Therefore 'I' (infant) will be removed."
   ]
  },
  {
   "cell_type": "code",
   "execution_count": 16,
   "metadata": {},
   "outputs": [],
   "source": [
    "abalone=abalone[abalone['Sex']!='I']"
   ]
  },
  {
   "cell_type": "code",
   "execution_count": 17,
   "metadata": {},
   "outputs": [
    {
     "data": {
      "text/plain": [
       "array(['M', 'F'], dtype=object)"
      ]
     },
     "execution_count": 17,
     "metadata": {},
     "output_type": "execute_result"
    }
   ],
   "source": [
    "abalone['Sex'].unique()"
   ]
  },
  {
   "cell_type": "code",
   "execution_count": 35,
   "metadata": {},
   "outputs": [
    {
     "data": {
      "image/png": "[encoded data removed]",
      "text/plain": [
       "<Figure size 432x288 with 1 Axes>"
      ]
     },
     "metadata": {},
     "output_type": "display_data"
    }
   ],
   "source": [
    "sex_count = abalone['Sex'].value_counts()\n",
    "sns.barplot(sex_count.index, sex_count.values)\n",
    "plt.title('Frequency Distribution of Genders')\n",
    "plt.ylabel('Number of Occurrences')\n",
    "plt.xlabel('Sex')\n",
    "plt.show()"
   ]
  },
  {
   "cell_type": "markdown",
   "metadata": {},
   "source": [
    "Since the total number of 'Male' is 1528 and 'Female' is 1307, the dataset could be interpreted as balanced."
   ]
  },
  {
   "cell_type": "markdown",
   "metadata": {},
   "source": [
    "Finally, converting categorical values into numerical"
   ]
  },
  {
   "cell_type": "code",
   "execution_count": 37,
   "metadata": {},
   "outputs": [
    {
     "data": {
      "text/html": [
       "<div>\n",
       "<style scoped>\n",
       "    .dataframe tbody tr th:only-of-type {\n",
       "        vertical-align: middle;\n",
       "    }\n",
       "\n",
       "    .dataframe tbody tr th {\n",
       "        vertical-align: top;\n",
       "    }\n",
       "\n",
       "    .dataframe thead th {\n",
       "        text-align: right;\n",
       "    }\n",
       "</style>\n",
       "<table border=\"1\" class=\"dataframe\">\n",
       "  <thead>\n",
       "    <tr style=\"text-align: right;\">\n",
       "      <th></th>\n",
       "      <th>Sex</th>\n",
       "      <th>Length</th>\n",
       "      <th>Diameter</th>\n",
       "      <th>Height</th>\n",
       "      <th>Whole weight</th>\n",
       "      <th>Shucked weight</th>\n",
       "      <th>Viscera weight</th>\n",
       "      <th>Shell weight</th>\n",
       "      <th>Rings</th>\n",
       "    </tr>\n",
       "  </thead>\n",
       "  <tbody>\n",
       "    <tr>\n",
       "      <th>0</th>\n",
       "      <td>0</td>\n",
       "      <td>0.455</td>\n",
       "      <td>0.365</td>\n",
       "      <td>0.095</td>\n",
       "      <td>0.5140</td>\n",
       "      <td>0.2245</td>\n",
       "      <td>0.1010</td>\n",
       "      <td>0.150</td>\n",
       "      <td>15</td>\n",
       "    </tr>\n",
       "    <tr>\n",
       "      <th>1</th>\n",
       "      <td>0</td>\n",
       "      <td>0.350</td>\n",
       "      <td>0.265</td>\n",
       "      <td>0.090</td>\n",
       "      <td>0.2255</td>\n",
       "      <td>0.0995</td>\n",
       "      <td>0.0485</td>\n",
       "      <td>0.070</td>\n",
       "      <td>7</td>\n",
       "    </tr>\n",
       "    <tr>\n",
       "      <th>2</th>\n",
       "      <td>1</td>\n",
       "      <td>0.530</td>\n",
       "      <td>0.420</td>\n",
       "      <td>0.135</td>\n",
       "      <td>0.6770</td>\n",
       "      <td>0.2565</td>\n",
       "      <td>0.1415</td>\n",
       "      <td>0.210</td>\n",
       "      <td>9</td>\n",
       "    </tr>\n",
       "    <tr>\n",
       "      <th>3</th>\n",
       "      <td>0</td>\n",
       "      <td>0.440</td>\n",
       "      <td>0.365</td>\n",
       "      <td>0.125</td>\n",
       "      <td>0.5160</td>\n",
       "      <td>0.2155</td>\n",
       "      <td>0.1140</td>\n",
       "      <td>0.155</td>\n",
       "      <td>10</td>\n",
       "    </tr>\n",
       "    <tr>\n",
       "      <th>6</th>\n",
       "      <td>1</td>\n",
       "      <td>0.530</td>\n",
       "      <td>0.415</td>\n",
       "      <td>0.150</td>\n",
       "      <td>0.7775</td>\n",
       "      <td>0.2370</td>\n",
       "      <td>0.1415</td>\n",
       "      <td>0.330</td>\n",
       "      <td>20</td>\n",
       "    </tr>\n",
       "  </tbody>\n",
       "</table>\n",
       "</div>"
      ],
      "text/plain": [
       "   Sex  Length  Diameter  Height  Whole weight  Shucked weight  \\\n",
       "0    0   0.455     0.365   0.095        0.5140          0.2245   \n",
       "1    0   0.350     0.265   0.090        0.2255          0.0995   \n",
       "2    1   0.530     0.420   0.135        0.6770          0.2565   \n",
       "3    0   0.440     0.365   0.125        0.5160          0.2155   \n",
       "6    1   0.530     0.415   0.150        0.7775          0.2370   \n",
       "\n",
       "   Viscera weight  Shell weight  Rings  \n",
       "0          0.1010         0.150     15  \n",
       "1          0.0485         0.070      7  \n",
       "2          0.1415         0.210      9  \n",
       "3          0.1140         0.155     10  \n",
       "6          0.1415         0.330     20  "
      ]
     },
     "execution_count": 37,
     "metadata": {},
     "output_type": "execute_result"
    }
   ],
   "source": [
    "abalone_sex_new = {\"Sex\":     {'M': 0, 'F':1}}\n",
    "abalone.replace(abalone_sex_new, inplace=True)\n",
    "abalone.head()"
   ]
  },
  {
   "cell_type": "markdown",
   "metadata": {},
   "source": [
    "#### Creating a data partition"
   ]
  },
  {
   "cell_type": "code",
   "execution_count": 38,
   "metadata": {},
   "outputs": [
    {
     "data": {
      "text/plain": [
       "Index(['Sex', 'Length', 'Diameter', 'Height', 'Whole weight', 'Shucked weight',\n",
       "       'Viscera weight', 'Shell weight', 'Rings'],\n",
       "      dtype='object')"
      ]
     },
     "execution_count": 38,
     "metadata": {},
     "output_type": "execute_result"
    }
   ],
   "source": [
    "abalone.columns"
   ]
  },
  {
   "cell_type": "code",
   "execution_count": 39,
   "metadata": {},
   "outputs": [],
   "source": [
    "X_ab = abalone[['Length', 'Diameter', 'Height', 'Whole weight', 'Shucked weight',\n",
    "       'Viscera weight', 'Shell weight', 'Rings']]\n",
    "y_ab = abalone['Sex']"
   ]
  },
  {
   "cell_type": "code",
   "execution_count": 40,
   "metadata": {},
   "outputs": [],
   "source": [
    "X_ab_train,X_ab_test,y_ab_train,y_ab_test = train_test_split(X_ab,y_ab,test_size=0.30,random_state=123)"
   ]
  },
  {
   "cell_type": "markdown",
   "metadata": {},
   "source": [
    "### Logistic Regression model"
   ]
  },
  {
   "cell_type": "code",
   "execution_count": 42,
   "metadata": {},
   "outputs": [
    {
     "name": "stdout",
     "output_type": "stream",
     "text": [
      "Optimization terminated successfully.\n",
      "         Current function value: 0.682982\n",
      "         Iterations 5\n"
     ]
    }
   ],
   "source": [
    "# Creating the Logistic Regression model\n",
    "logit = sm.Logit(y_ab_train,X_ab_train)\n",
    "\n",
    "# Fitting the model\n",
    "results_logit = logit.fit()"
   ]
  },
  {
   "cell_type": "code",
   "execution_count": 43,
   "metadata": {},
   "outputs": [
    {
     "name": "stdout",
     "output_type": "stream",
     "text": [
      "                           Logit Regression Results                           \n",
      "==============================================================================\n",
      "Dep. Variable:                    Sex   No. Observations:                 1984\n",
      "Model:                          Logit   Df Residuals:                     1976\n",
      "Method:                           MLE   Df Model:                            7\n",
      "Date:                Sun, 05 Jan 2020   Pseudo R-squ.:                 0.01278\n",
      "Time:                        00:08:55   Log-Likelihood:                -1355.0\n",
      "converged:                       True   LL-Null:                       -1372.6\n",
      "                                        LLR p-value:                 1.076e-05\n",
      "==================================================================================\n",
      "                     coef    std err          z      P>|z|      [0.025      0.975]\n",
      "----------------------------------------------------------------------------------\n",
      "Length            -4.0595      2.211     -1.836      0.066      -8.392       0.273\n",
      "Diameter           3.8511      2.889      1.333      0.182      -1.811       9.513\n",
      "Height             2.0194      1.909      1.058      0.290      -1.723       5.762\n",
      "Whole weight       1.1724      0.909      1.290      0.197      -0.609       2.953\n",
      "Shucked weight    -3.5071      1.089     -3.219      0.001      -5.642      -1.372\n",
      "Viscera weight     3.4344      1.529      2.246      0.025       0.437       6.432\n",
      "Shell weight      -0.0004      1.353     -0.000      1.000      -2.652       2.651\n",
      "Rings             -0.0198      0.018     -1.075      0.283      -0.056       0.016\n",
      "==================================================================================\n"
     ]
    }
   ],
   "source": [
    "# Showing the metrics\n",
    "print(results_logit.summary())"
   ]
  },
  {
   "cell_type": "code",
   "execution_count": 48,
   "metadata": {},
   "outputs": [
    {
     "name": "stdout",
     "output_type": "stream",
     "text": [
      "MSE: 0.2479263643333023\n"
     ]
    }
   ],
   "source": [
    "y_ab_pred = results_logit.predict(X_ab_test)\n",
    "\n",
    "print(\"MSE:\", metrics.mean_squared_error(y_ab_test, y_ab_pred))  #MSE"
   ]
  },
  {
   "cell_type": "markdown",
   "metadata": {},
   "source": [
    "### Cross Validation"
   ]
  },
  {
   "cell_type": "markdown",
   "metadata": {},
   "source": [
    "#### Defining the model"
   ]
  },
  {
   "cell_type": "code",
   "execution_count": 67,
   "metadata": {},
   "outputs": [],
   "source": [
    "log = LogisticRegression()"
   ]
  },
  {
   "cell_type": "markdown",
   "metadata": {},
   "source": [
    "#### Evaluating which model is more appropiate through accuracy"
   ]
  },
  {
   "cell_type": "code",
   "execution_count": 69,
   "metadata": {},
   "outputs": [
    {
     "name": "stdout",
     "output_type": "stream",
     "text": [
      "The resulting scores for each approach are: \n",
      "\n",
      "1. The accuracy for Validation set is: 0.5559081095661885 \n",
      "\n",
      "2. The accuracy for LOOCV is: 0.5534391534391534 \n",
      "\n",
      "3. The accuracy for 5 fold cross validation is: 0.5552085579831562 \n",
      "\n",
      "4. The accuracy for 10 fold cross validation is: 0.5545018500850478 \n",
      "\n"
     ]
    }
   ],
   "source": [
    "print(\"The resulting scores for each approach are:\",\"\\n\")\n",
    "\n",
    "# Validation set\n",
    "print(\"1. The accuracy for Validation set is:\",cross_val_score(log, X_ab, y_ab, cv=2, scoring='accuracy').mean(),\"\\n\")\n",
    "\n",
    "# LOOCV\n",
    "print(\"2. The accuracy for LOOCV is:\",cross_val_score(log, X_ab, y_ab, cv=LeaveOneOut(len(X_ab)), scoring='accuracy').mean(),\"\\n\")\n",
    "\n",
    "# 5 fold \n",
    "print(\"3. The accuracy for 5 fold cross validation is:\",cross_val_score(log, X_ab, y_ab, cv=5, scoring='accuracy').mean(),\"\\n\")\n",
    "\n",
    "# 10 fold \n",
    "print(\"4. The accuracy for 10 fold cross validation is:\",cross_val_score(log, X_ab, y_ab, cv=10, scoring='accuracy').mean(),\"\\n\")"
   ]
  },
  {
   "cell_type": "markdown",
   "metadata": {},
   "source": [
    "#### Performing the selected model"
   ]
  },
  {
   "cell_type": "markdown",
   "metadata": {},
   "source": [
    "Since the validation set with a half of dataset as validation set would suffer from which training data is splitted and due to the large amount of time spent in evaluating the model for LOOCV; the selected model would be 5 fold cross validation."
   ]
  },
  {
   "cell_type": "code",
   "execution_count": 90,
   "metadata": {},
   "outputs": [
    {
     "data": {
      "text/plain": [
       "5"
      ]
     },
     "execution_count": 90,
     "metadata": {},
     "output_type": "execute_result"
    }
   ],
   "source": [
    "# Creating the model of K fold with 5 splits\n",
    "kf_ab = KFold(n_splits=5)\n",
    "\n",
    "# Showing the splits\n",
    "kf_ab.get_n_splits(X_ab)"
   ]
  },
  {
   "cell_type": "code",
   "execution_count": 91,
   "metadata": {},
   "outputs": [],
   "source": [
    "# Fiting the model\n",
    "CM_list = list()\n",
    "Accur_list_ab = list()\n",
    "\n",
    "for train_index_ab, test_index_ab in kf_ab.split(X_ab):\n",
    "    X_train_ab, X_test_ab = X_ab.iloc[train_index_ab], X_ab.iloc[test_index_ab]\n",
    "    y_train_ab, y_test_ab = y_ab.iloc[train_index_ab], y_ab.iloc[test_index_ab]\n",
    "    \n",
    "    result_ab = log.fit(X_train_ab,y_train_ab)\n",
    "    y_pred_ab = result_ab.predict(X_test_ab)\n",
    "    \n",
    "    CM_list.append(metrics.confusion_matrix(y_test_ab, y_pred_ab))\n",
    "    Accur_list_ab.append(result_ab.score(X_test_ab,y_test_ab))"
   ]
  },
  {
   "cell_type": "code",
   "execution_count": 135,
   "metadata": {},
   "outputs": [
    {
     "name": "stdout",
     "output_type": "stream",
     "text": [
      "The different Confusion Matrix for each fold are: \n",
      " [[243  44]\n",
      " [227  53]] \n",
      " --------- \n",
      " [[286  37]\n",
      " [198  46]] \n",
      " --------- \n",
      " [[233  74]\n",
      " [180  80]] \n",
      " --------- \n",
      " [[251  54]\n",
      " [193  69]] \n",
      " --------- \n",
      " [[259  47]\n",
      " [206  55]] \n",
      "\n",
      "The Accur for each fold is: [0.52, 0.59, 0.55, 0.56, 0.55]\n"
     ]
    }
   ],
   "source": [
    "Accur_list_ab = [r.round(2) for r in Accur_list_ab]\n",
    "print(\"The different Confusion Matrix for each fold are:\",\"\\n\",\n",
    "      CM_list[0],\"\\n\",\"---------\",\"\\n\",\n",
    "      CM_list[1],\"\\n\",\"---------\",\"\\n\",\n",
    "      CM_list[2],\"\\n\",\"---------\",\"\\n\",\n",
    "      CM_list[3],\"\\n\",\"---------\",\"\\n\",\n",
    "      CM_list[4],\"\\n\")\n",
    "print(\"The Accur for each fold is:\",Accur_list_ab)"
   ]
  },
  {
   "cell_type": "code",
   "execution_count": 137,
   "metadata": {},
   "outputs": [
    {
     "name": "stdout",
     "output_type": "stream",
     "text": [
      "The overall Accuracy is: \n",
      " \n",
      " Accur: 0.554\n"
     ]
    }
   ],
   "source": [
    "print(\"The overall Accuracy is:\",\"\\n\",\"\\n\",\n",
    "      \"Accur:\",round(sum(Accur_list_ab)/kf_ab.get_n_splits(X_ab),3))"
   ]
  },
  {
   "cell_type": "markdown",
   "metadata": {},
   "source": [
    "#### Note\n",
    "If it would like to predict the response with new input data (making truly predictions), it would be necessary to replace the y_test_ab by the the input data to predict."
   ]
  },
  {
   "cell_type": "markdown",
   "metadata": {},
   "source": [
    "#### Decision Tree"
   ]
  },
  {
   "cell_type": "markdown",
   "metadata": {},
   "source": [
    "However the strongest point of cross validation is try to find which algorithm would fit better the model and so, it would be studied the possibility of decision tree algorithm for this case.\n",
    "It would be perform different values of depth from 1 to 20 nodes and then take the highest accuracy value."
   ]
  },
  {
   "cell_type": "code",
   "execution_count": 123,
   "metadata": {},
   "outputs": [],
   "source": [
    "from sklearn import tree"
   ]
  },
  {
   "cell_type": "code",
   "execution_count": 127,
   "metadata": {},
   "outputs": [],
   "source": [
    "depthList = np.array(range(1,20))\n",
    "scores = list()\n",
    "\n",
    "for iDepth in depthList:\n",
    "    treeModel = tree.DecisionTreeClassifier(max_depth = iDepth)\n",
    "    scores.append(cross_val_score(treeModel, X_ab, y_ab, cv=5).mean())"
   ]
  },
  {
   "cell_type": "code",
   "execution_count": 130,
   "metadata": {},
   "outputs": [
    {
     "data": {
      "text/plain": [
       "[0.5389771688631988,\n",
       " 0.5375637413013614,\n",
       " 0.5421530250297317,\n",
       " 0.5382673500322268,\n",
       " 0.5470751437912473,\n",
       " 0.5326279493477025,\n",
       " 0.530158802573325,\n",
       " 0.5248839589032691,\n",
       " 0.530523361782175,\n",
       " 0.5277145444757714,\n",
       " 0.5322814279561239,\n",
       " 0.5287615497987269,\n",
       " 0.5291205089455724,\n",
       " 0.529811677726789,\n",
       " 0.5262886901305753,\n",
       " 0.5227576052660245,\n",
       " 0.5262837088841998,\n",
       " 0.5312201328197779,\n",
       " 0.5280448976632557]"
      ]
     },
     "execution_count": 130,
     "metadata": {},
     "output_type": "execute_result"
    }
   ],
   "source": [
    "scores"
   ]
  },
  {
   "cell_type": "code",
   "execution_count": 138,
   "metadata": {},
   "outputs": [
    {
     "name": "stdout",
     "output_type": "stream",
     "text": [
      "1. The highest accuracy for Decision Tree Classifier is: 0.547\n"
     ]
    }
   ],
   "source": [
    "# Decision Tree\n",
    "print(\"1. The highest accuracy for Decision Tree Classifier is:\",np.max(scores).round(3))"
   ]
  },
  {
   "cell_type": "markdown",
   "metadata": {},
   "source": [
    "#### Conclusion of Decision Tree Classifier\n",
    "Since the result is lower than 5 fold Cross Validation with Logistic Regression algorithm, it would be enought with using the previous model (logistic model)."
   ]
  },
  {
   "cell_type": "code",
   "execution_count": null,
   "metadata": {},
   "outputs": [],
   "source": []
  }
 ],
 "metadata": {
  "kernelspec": {
   "display_name": "Python 3",
   "language": "python",
   "name": "python3"
  },
  "language_info": {
   "codemirror_mode": {
    "name": "ipython",
    "version": 3
   },
   "file_extension": ".py",
   "mimetype": "text/x-python",
   "name": "python",
   "nbconvert_exporter": "python",
   "pygments_lexer": "ipython3",
   "version": "3.6.5"
  }
 },
 "nbformat": 4,
 "nbformat_minor": 2
}
